{
 "cells": [
  {
   "cell_type": "markdown",
   "id": "59a51a98",
   "metadata": {},
   "source": [
    "\n",
    "# LIST"
   ]
  },
  {
   "cell_type": "code",
   "execution_count": 2,
   "id": "e17c02d8",
   "metadata": {},
   "outputs": [
    {
     "data": {
      "text/plain": [
       "[1, 3, 4, 34, 5666]"
      ]
     },
     "execution_count": 2,
     "metadata": {},
     "output_type": "execute_result"
    }
   ],
   "source": [
    "\n",
    "# list is a type of data structure that store multiple type of data like str,int float etc..\n",
    "# list has [start,end,step] \n",
    "\n",
    "mylist=[1,3,4,34,5666] # list of integers\n",
    "\n",
    "mylist\n"
   ]
  },
  {
   "cell_type": "code",
   "execution_count": 3,
   "id": "66abdb0a",
   "metadata": {},
   "outputs": [
    {
     "data": {
      "text/plain": [
       "['ram', 'om', 'sham']"
      ]
     },
     "execution_count": 3,
     "metadata": {},
     "output_type": "execute_result"
    }
   ],
   "source": [
    "mylist1=[\"ram\",'om','sham'] # list of str\n",
    "mylist1"
   ]
  },
  {
   "cell_type": "code",
   "execution_count": 4,
   "id": "a92588bf",
   "metadata": {},
   "outputs": [
    {
     "data": {
      "text/plain": [
       "[22.4, 44.5, 6.0, 3.5]"
      ]
     },
     "execution_count": 4,
     "metadata": {},
     "output_type": "execute_result"
    }
   ],
   "source": [
    "mylist2=[22.4,44.5,6.0,3.5] # list of float\n",
    "mylist2"
   ]
  },
  {
   "cell_type": "code",
   "execution_count": 5,
   "id": "598a84a7",
   "metadata": {},
   "outputs": [
    {
     "data": {
      "text/plain": [
       "[23, 45, 64, [25, 90], 56, [48, 77]]"
      ]
     },
     "execution_count": 5,
     "metadata": {},
     "output_type": "execute_result"
    }
   ],
   "source": [
    "# nested list (it means list inside the list)\n",
    "mylist3=[23,45,64,[25,90],56,[48,77]]\n",
    "mylist3"
   ]
  },
  {
   "cell_type": "code",
   "execution_count": 11,
   "id": "e18608a4",
   "metadata": {},
   "outputs": [
    {
     "data": {
      "text/plain": [
       "[23, 55, 67, 66, 20, 40, 50, 60, 888, 990, 1000, 435, 664, 553, 454]"
      ]
     },
     "execution_count": 11,
     "metadata": {},
     "output_type": "execute_result"
    }
   ],
   "source": [
    "# when we want to print a list we need to give what will be the start end and steps\n",
    "\n",
    "l1=[23,55,67,66,20,40,50,60,888,990,1000,435,664,553,454]\n",
    "l1"
   ]
  },
  {
   "cell_type": "code",
   "execution_count": 12,
   "id": "1c3aa59c",
   "metadata": {},
   "outputs": [
    {
     "data": {
      "text/plain": [
       "[23, 55, 67, 66, 20]"
      ]
     },
     "execution_count": 12,
     "metadata": {},
     "output_type": "execute_result"
    }
   ],
   "source": [
    "l1[0:5]"
   ]
  },
  {
   "cell_type": "code",
   "execution_count": 14,
   "id": "7371fa1c",
   "metadata": {},
   "outputs": [
    {
     "data": {
      "text/plain": [
       "[23, 67, 20, 50, 888, 1000, 664, 454]"
      ]
     },
     "execution_count": 14,
     "metadata": {},
     "output_type": "execute_result"
    }
   ],
   "source": [
    "l1[0:15:2]"
   ]
  },
  {
   "cell_type": "code",
   "execution_count": 15,
   "id": "2eb02cd7",
   "metadata": {},
   "outputs": [
    {
     "data": {
      "text/plain": [
       "[454, 553, 664, 435, 1000, 990, 888, 60, 50, 40, 20, 66, 67, 55, 23]"
      ]
     },
     "execution_count": 15,
     "metadata": {},
     "output_type": "execute_result"
    }
   ],
   "source": [
    "l1[::-1]"
   ]
  },
  {
   "cell_type": "code",
   "execution_count": 16,
   "id": "70462bd0",
   "metadata": {},
   "outputs": [
    {
     "data": {
      "text/plain": [
       "[454, 664, 1000, 888, 50, 20, 67]"
      ]
     },
     "execution_count": 16,
     "metadata": {},
     "output_type": "execute_result"
    }
   ],
   "source": [
    "l1[14:0:-2] # starting number is greater than ending number while doing negative indexing"
   ]
  },
  {
   "cell_type": "markdown",
   "id": "0c8a5e4e",
   "metadata": {},
   "source": [
    "# Add Operations on list\n",
    "\n",
    "# 1.append"
   ]
  },
  {
   "cell_type": "code",
   "execution_count": 17,
   "id": "a3c72001",
   "metadata": {},
   "outputs": [
    {
     "data": {
      "text/plain": [
       "[23, 55, 67, 66, 20, 40, 50, 60, 888, 990, 1000, 435, 664, 553, 454, 'ram']"
      ]
     },
     "execution_count": 17,
     "metadata": {},
     "output_type": "execute_result"
    }
   ],
   "source": [
    "l1.append(\"ram\") # the append function take exactly only one value and add it at the last of the list\n",
    "l1"
   ]
  },
  {
   "cell_type": "code",
   "execution_count": 18,
   "id": "66f252cb",
   "metadata": {},
   "outputs": [
    {
     "ename": "TypeError",
     "evalue": "list.append() takes exactly one argument (2 given)",
     "output_type": "error",
     "traceback": [
      "\u001b[1;31m---------------------------------------------------------------------------\u001b[0m",
      "\u001b[1;31mTypeError\u001b[0m                                 Traceback (most recent call last)",
      "Cell \u001b[1;32mIn[18], line 1\u001b[0m\n\u001b[1;32m----> 1\u001b[0m \u001b[43ml1\u001b[49m\u001b[38;5;241;43m.\u001b[39;49m\u001b[43mappend\u001b[49m\u001b[43m(\u001b[49m\u001b[38;5;124;43m'\u001b[39;49m\u001b[38;5;124;43mram\u001b[39;49m\u001b[38;5;124;43m'\u001b[39;49m\u001b[43m,\u001b[49m\u001b[38;5;241;43m2\u001b[39;49m\u001b[43m)\u001b[49m\n\u001b[0;32m      2\u001b[0m l1\n",
      "\u001b[1;31mTypeError\u001b[0m: list.append() takes exactly one argument (2 given)"
     ]
    }
   ],
   "source": [
    "l1.append('ram',2) # it will not take more than one value\n",
    "l1"
   ]
  },
  {
   "cell_type": "markdown",
   "id": "12f78835",
   "metadata": {},
   "source": [
    "# 2. Insert"
   ]
  },
  {
   "cell_type": "code",
   "execution_count": 3,
   "id": "2bac9039",
   "metadata": {},
   "outputs": [
    {
     "data": {
      "text/plain": [
       "[23, 56, 'soham', 777, 8877, 4535, 234, 'ram']"
      ]
     },
     "execution_count": 3,
     "metadata": {},
     "output_type": "execute_result"
    }
   ],
   "source": [
    "l2=[23,56,777,8877,4535,234,'ram']\n",
    "l2.insert(2,'soham')# in this operation we need to give two values one is index value and element\n",
    "l2"
   ]
  },
  {
   "cell_type": "markdown",
   "id": "7ac1c9ea",
   "metadata": {},
   "source": [
    "# 3. extend\n"
   ]
  },
  {
   "cell_type": "code",
   "execution_count": 4,
   "id": "9df36a44",
   "metadata": {},
   "outputs": [
    {
     "data": {
      "text/plain": [
       "[23, 56, 'soham', 777, 8877, 4535, 234, 'ram', 23, 56, 90, 700]"
      ]
     },
     "execution_count": 4,
     "metadata": {},
     "output_type": "execute_result"
    }
   ],
   "source": [
    "l2.extend([23,56,90,700])# it will add one by one  element at the last \n",
    "l2"
   ]
  },
  {
   "cell_type": "markdown",
   "id": "199c6b2e",
   "metadata": {},
   "source": [
    "# Remove operation on list "
   ]
  },
  {
   "cell_type": "markdown",
   "id": "c9ed9699",
   "metadata": {},
   "source": [
    "# 1.pop"
   ]
  },
  {
   "cell_type": "code",
   "execution_count": 5,
   "id": "fd49fa40",
   "metadata": {},
   "outputs": [
    {
     "data": {
      "text/plain": [
       "[23, 56, 'soham', 777, 8877, 4535, 234, 'ram', 23, 56, 90]"
      ]
     },
     "execution_count": 5,
     "metadata": {},
     "output_type": "execute_result"
    }
   ],
   "source": [
    "l2.pop()# default  it will remove last element from the list\n",
    "l2"
   ]
  },
  {
   "cell_type": "code",
   "execution_count": 8,
   "id": "724a9799",
   "metadata": {},
   "outputs": [
    {
     "data": {
      "text/plain": [
       "[56, 'soham', 777, 8877, 4535, 234, 'ram', 23, 56, 90]"
      ]
     },
     "execution_count": 8,
     "metadata": {},
     "output_type": "execute_result"
    }
   ],
   "source": [
    "l2.pop(0) # it will remove given index value element from the list\n",
    "l2"
   ]
  },
  {
   "cell_type": "markdown",
   "id": "037ffeb3",
   "metadata": {},
   "source": [
    "# 2. remove"
   ]
  },
  {
   "cell_type": "code",
   "execution_count": 9,
   "id": "8d307931",
   "metadata": {},
   "outputs": [
    {
     "data": {
      "text/plain": [
       "[56, 777, 8877, 4535, 234, 'ram', 23, 56, 90]"
      ]
     },
     "execution_count": 9,
     "metadata": {},
     "output_type": "execute_result"
    }
   ],
   "source": [
    "l2.remove('soham') #it will remove the given item from the list\n",
    "l2"
   ]
  },
  {
   "cell_type": "markdown",
   "id": "7fe2c231",
   "metadata": {},
   "source": [
    "#  3. clear"
   ]
  },
  {
   "cell_type": "code",
   "execution_count": 10,
   "id": "a2431061",
   "metadata": {},
   "outputs": [
    {
     "data": {
      "text/plain": [
       "[]"
      ]
     },
     "execution_count": 10,
     "metadata": {},
     "output_type": "execute_result"
    }
   ],
   "source": [
    "l2.clear()# it will remove all the element from the list and it remain empty list as follows \n",
    "l2"
   ]
  },
  {
   "cell_type": "markdown",
   "id": "449df301",
   "metadata": {},
   "source": [
    "# 4. del"
   ]
  },
  {
   "cell_type": "code",
   "execution_count": 12,
   "id": "9d3f23f0",
   "metadata": {},
   "outputs": [
    {
     "ename": "NameError",
     "evalue": "name 'l2' is not defined",
     "output_type": "error",
     "traceback": [
      "\u001b[1;31m---------------------------------------------------------------------------\u001b[0m",
      "\u001b[1;31mNameError\u001b[0m                                 Traceback (most recent call last)",
      "Cell \u001b[1;32mIn[12], line 2\u001b[0m\n\u001b[0;32m      1\u001b[0m \u001b[38;5;28;01mdel\u001b[39;00m l2\n\u001b[1;32m----> 2\u001b[0m \u001b[43ml2\u001b[49m\n",
      "\u001b[1;31mNameError\u001b[0m: name 'l2' is not defined"
     ]
    }
   ],
   "source": [
    "del l2 #it will delete my variable from the source\n",
    "l2"
   ]
  },
  {
   "cell_type": "markdown",
   "id": "6dd77104",
   "metadata": {},
   "source": [
    "#  Joining of two list"
   ]
  },
  {
   "cell_type": "code",
   "execution_count": 13,
   "id": "50d1e44d",
   "metadata": {},
   "outputs": [
    {
     "data": {
      "text/plain": [
       "[2, 3, 54, 6, 7, 'ram', 'sham', 'om']"
      ]
     },
     "execution_count": 13,
     "metadata": {},
     "output_type": "execute_result"
    }
   ],
   "source": [
    "l1=[2,3,54,6,7]\n",
    "l2=['ram','sham','om']\n",
    "l3=l1+l2\n",
    "l3"
   ]
  },
  {
   "cell_type": "code",
   "execution_count": 15,
   "id": "4c53180c",
   "metadata": {},
   "outputs": [
    {
     "data": {
      "text/plain": [
       "[2, 3, 54, 6, 7, 'ram', 'sham', 'om', 'hari']"
      ]
     },
     "execution_count": 15,
     "metadata": {},
     "output_type": "execute_result"
    }
   ],
   "source": [
    "# another method\n",
    "l1.extend(['ram','sham','om','hari'])\n",
    "l1"
   ]
  },
  {
   "cell_type": "code",
   "execution_count": null,
   "id": "c82b5393",
   "metadata": {},
   "outputs": [],
   "source": []
  }
 ],
 "metadata": {
  "kernelspec": {
   "display_name": "Python 3 (ipykernel)",
   "language": "python",
   "name": "python3"
  },
  "language_info": {
   "codemirror_mode": {
    "name": "ipython",
    "version": 3
   },
   "file_extension": ".py",
   "mimetype": "text/x-python",
   "name": "python",
   "nbconvert_exporter": "python",
   "pygments_lexer": "ipython3",
   "version": "3.11.5"
  }
 },
 "nbformat": 4,
 "nbformat_minor": 5
}
